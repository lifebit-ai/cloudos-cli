{
 "cells": [
  {
   "cell_type": "markdown",
   "metadata": {},
   "source": [
    "# cloudos-cli training"
   ]
  },
  {
   "cell_type": "markdown",
   "metadata": {},
   "source": [
    "## Repository and documentation"
   ]
  },
  {
   "cell_type": "markdown",
   "metadata": {},
   "source": [
    "Repository link: https://github.com/lifebit-ai/cloudos-cli (public repository).\n",
    "Available documentation:\n",
    "   - Repository documentation: https://github.com/lifebit-ai/cloudos-cli/blob/main/README.md\n"
   ]
  },
  {
   "cell_type": "markdown",
   "metadata": {},
   "source": [
    "## Installation"
   ]
  },
  {
   "cell_type": "markdown",
   "metadata": {},
   "source": [
    "The package requires:\n",
    "- Python >= 3.7\n",
    "- click >= 8.0.1\n",
    "- pandas >= 1.3.4\n",
    "- numpy==1.26.4\n",
    "- requests >= 2.26.0\n",
    "- pip\n",
    "\n",
    "Clone the repository and install it using pip:"
   ]
  },
  {
   "cell_type": "code",
   "execution_count": null,
   "metadata": {},
   "outputs": [],
   "source": [
    "git clone https://github.com/lifebit-ai/cloudos-cli\n",
    "cd cloudos-cli\n",
    "pip install -r requirements.txt\n",
    "pip install .\n",
    "cd .."
   ]
  },
  {
   "cell_type": "markdown",
   "metadata": {},
   "source": [
    "### Recommended alternative: docker image"
   ]
  },
  {
   "cell_type": "markdown",
   "metadata": {},
   "source": [
    "Instead of installing it from the GitHub repository, we recommend to use the already available docker image. You can check the latest version available at : https://github.com/lifebit-ai/cloudos-cli/releases or simply use the `latest` tag. "
   ]
  },
  {
   "cell_type": "markdown",
   "metadata": {},
   "source": [
    "`docker run --rm -it quay.io/lifebitaiorg/cloudos-cli:latest` (currently equivalent to `docker run --rm -it quay.io/lifebitaiorg/cloudos-cli:v2.13.0`)"
   ]
  },
  {
   "cell_type": "markdown",
   "metadata": {},
   "source": [
    "You can check the current version using:"
   ]
  },
  {
   "cell_type": "code",
   "execution_count": null,
   "metadata": {},
   "outputs": [],
   "source": [
    "cloudos --version"
   ]
  },
  {
   "cell_type": "markdown",
   "metadata": {},
   "source": [
    "## CloudOS required variables"
   ]
  },
  {
   "cell_type": "markdown",
   "metadata": {},
   "source": [
    "Running `cloudos-cli` usually requires to get some values from CloudOS UI:\n",
    "- Cloudos URL: https://cloudos.lifebit.ai\n",
    "- Workspace ID: 5c6d3e9bd954e800b23f8c62\n",
    "- API key: xxx (first, you need to generate it from the UI)\n",
    ">NOTE: Please, change these values according to your CloudOS workspace."
   ]
  },
  {
   "cell_type": "markdown",
   "metadata": {},
   "source": [
    "Additionally, for using job functionality you normally also need:\n",
    "- Project name: an already existing Project from \"Projects\" CloudOS section\n",
    "- workflow name: an already available pipeline from \"Pipelines & Tools\" CloudOS section.\n",
    "> NOTE: currently, `cloudos-cli` only supports the execution of Nextflow and WDL pipelines."
   ]
  },
  {
   "cell_type": "markdown",
   "metadata": {},
   "source": [
    "We can set them as bash variables to re-use them in serveral `cloudos-cli` calls:"
   ]
  },
  {
   "cell_type": "code",
   "execution_count": null,
   "metadata": {},
   "outputs": [],
   "source": [
    "# Please, change the CloudOS URL and workspace ID according to your version of CloudOS\n",
    "CLOUDOS=\"https://cloudos.lifebit.ai\"\n",
    "WORKSPACE_ID=\"5c6d3e9bd954e800b23f8c62\"\n",
    "APIKEY=\"xxx\"\n",
    "PROJECT=\"cloudos-cli-training\""
   ]
  },
  {
   "cell_type": "markdown",
   "metadata": {},
   "source": [
    "We can test our credentials by running a simple command to list all the available projects in the workspace:"
   ]
  },
  {
   "cell_type": "code",
   "execution_count": null,
   "metadata": {},
   "outputs": [],
   "source": [
    "cloudos project list \\\n",
    "    --cloudos-url $CLOUDOS \\\n",
    "    --apikey $APIKEY \\\n",
    "    --workspace-id $WORKSPACE_ID"
   ]
  },
  {
   "cell_type": "markdown",
   "metadata": {},
   "source": [
    "## Preview of cloudos-cli features"
   ]
  },
  {
   "cell_type": "markdown",
   "metadata": {},
   "source": [
    "Currently, `cloudos-cli` include the following modules:\n",
    "- **job**:CloudOS job functionality: run and check jobs in CloudOS.\n",
    "- **cromwell**: Cromwell server functionality: check status, start and stop.\n",
    "- **workflow**: CloudOS workflow functionality: list workflows in CloudOS.\n",
    "- **project**: CloudOS project functionality: list projects in CloudOS.\n",
    "- **queue**:CloudOS job queue functionality.\n",
    "\n",
    "You can get general help using `--help` command:"
   ]
  },
  {
   "cell_type": "code",
   "execution_count": null,
   "metadata": {},
   "outputs": [],
   "source": [
    "cloudos --help"
   ]
  },
  {
   "cell_type": "markdown",
   "metadata": {},
   "source": [
    "And module specific help and description of all the available parameters using `--help` on each module and submodule. E.g.:"
   ]
  },
  {
   "cell_type": "code",
   "execution_count": null,
   "metadata": {},
   "outputs": [],
   "source": [
    "cloudos job --help"
   ]
  },
  {
   "cell_type": "code",
   "execution_count": null,
   "metadata": {},
   "outputs": [],
   "source": [
    "cloudos job run --help"
   ]
  },
  {
   "cell_type": "markdown",
   "metadata": {},
   "source": [
    "For a more detailed explanation of all the available features, please check the official documentation at: https://github.com/lifebit-ai/cloudos-cli/README.md"
   ]
  },
  {
   "cell_type": "markdown",
   "metadata": {},
   "source": [
    "## cloudos-cli test case 1: launch and monitor a Nextflow job"
   ]
  },
  {
   "cell_type": "markdown",
   "metadata": {},
   "source": [
    "In this first test case, we will try to launch and check the status of a job using the following pipeline: \"Cufflinks pipeline\".\n",
    "We will use the following example paramters for this pipeline:\n",
    "```\n",
    "--reads \"s3://gel-lifebit-featured-datasets/pipelines/rnatoy-data\"\n",
    "--genome \"s3://gel-lifebit-featured-datasets/pipelines/rnatoy-data/ggal_1_48850000_49020000.Ggal71.500bpflank.fa\"\n",
    "--annot \"s3://gel-lifebit-featured-datasets/pipelines/rnatoy-data/ggal_1_48850000_49020000.bed.gff\"\n",
    "```\n",
    "Run using the AWSbatch executor we have an optional parameter:\n",
    "- `--job-queue` (optional): the name of the job queue to use. If no valid queue is provided, cloudos-cli will use\n",
    "the workspace default queue.\n",
    "\n",
    "To list all available job queues in your workspace you can use:"
   ]
  },
  {
   "cell_type": "code",
   "execution_count": null,
   "metadata": {},
   "outputs": [],
   "source": [
    "cloudos queue list \\\n",
    "    --cloudos-url $CLOUDOS \\\n",
    "    --apikey $APIKEY \\\n",
    "    --workspace-id $WORKSPACE_ID"
   ]
  },
  {
   "cell_type": "code",
   "execution_count": null,
   "metadata": {},
   "outputs": [],
   "source": [
    "cat job_queue_list.csv"
   ]
  },
  {
   "cell_type": "markdown",
   "metadata": {},
   "source": [
    "> Note: the job queue name that is visible in CloudOS and has to be used in combination with `--job-queue` parameter is the one in `label` field"
   ]
  },
  {
   "cell_type": "markdown",
   "metadata": {},
   "source": [
    "A typical command to launch a Nextflow job like this using `cloudos-cli` would be:"
   ]
  },
  {
   "cell_type": "code",
   "execution_count": null,
   "metadata": {},
   "outputs": [],
   "source": [
    "cloudos job run \\\n",
    "    --cloudos-url $CLOUDOS \\\n",
    "    --apikey $APIKEY \\\n",
    "    --workspace-id $WORKSPACE_ID \\\n",
    "    --project-name $PROJECT \\\n",
    "    --job-name \"Cufflinks-test\" \\\n",
    "    --workflow-name \"Cufflinks pipeline\" \\\n",
    "    --parameter \"reads=s3://gel-lifebit-featured-datasets/pipelines/rnatoy-data\" \\\n",
    "    --parameter \"genome=s3://gel-lifebit-featured-datasets/pipelines/rnatoy-data/ggal_1_48850000_49020000.Ggal71.500bpflank.fa\" \\\n",
    "    --parameter \"annot=s3://gel-lifebit-featured-datasets/pipelines/rnatoy-data/ggal_1_48850000_49020000.bed.gff\" \\\n",
    "    --job-queue \"job_queue_nextflow\""
   ]
  },
  {
   "cell_type": "markdown",
   "metadata": {},
   "source": [
    "We can check the status of our submitted job just using the suggested command:"
   ]
  },
  {
   "cell_type": "code",
   "execution_count": null,
   "metadata": {},
   "outputs": [],
   "source": [
    "cloudos job status \\\n",
    "        --apikey $APIKEY \\\n",
    "        --cloudos-url $CLOUDOS \\\n",
    "        --job-id 645a52dbb60a3fd7b2884d7f"
   ]
  },
  {
   "cell_type": "markdown",
   "metadata": {},
   "source": [
    "### Extra option: await for job completion"
   ]
  },
  {
   "cell_type": "markdown",
   "metadata": {},
   "source": [
    "If we want to avoid constantly checking the job status, we can use the `--wait-completion` flag when launching the job. With this flag, `cloudos-cli` will inform about the job status until its completion."
   ]
  },
  {
   "cell_type": "markdown",
   "metadata": {},
   "source": [
    "```\n",
    "# NOTE: this command can take more than 10 min to complete\n",
    "cloudos job run \\\n",
    "    --cloudos-url $CLOUDOS \\\n",
    "    --apikey $APIKEY \\\n",
    "    --workspace-id $WORKSPACE_ID \\\n",
    "    --project-name $PROJECT \\\n",
    "    --job-name \"Cufflinks-test-wait-completion\" \\\n",
    "    --workflow-name \"Cufflinks pipeline\" \\\n",
    "    --parameter \"reads=s3://gel-lifebit-featured-datasets/pipelines/rnatoy-data\" \\\n",
    "    --parameter \"genome=s3://gel-lifebit-featured-datasets/pipelines/rnatoy-data/ggal_1_48850000_49020000.Ggal71.500bpflank.fa\" \\\n",
    "    --parameter \"annot=s3://gel-lifebit-featured-datasets/pipelines/rnatoy-data/ggal_1_48850000_49020000.bed.gff\" \\\n",
    "    --job-queue \"job_queue_nextflow\" \\\n",
    "    --wait-completion\n",
    "```"
   ]
  },
  {
   "cell_type": "markdown",
   "metadata": {},
   "source": [
    "> NOTE: this command is not actually executed in this session to avoid waiting > 10 min until job completion."
   ]
  },
  {
   "cell_type": "markdown",
   "metadata": {},
   "source": [
    "## cloudos-cli test case 2: launch and monitor a WDL job"
   ]
  },
  {
   "cell_type": "markdown",
   "metadata": {},
   "source": [
    "In this second test case we will launch a WDL pipeline job: \"wdl-tests\". The main difference is the requirement of a working and started Cromwell\n",
    "server in CloudOS. This can be managed automatically by `cloudos-cli`, so the job launch command will look\n",
    "very similar to the previous one. Another important difference is that for WDL pipelines you should specify the used main file with ` --wdl-mainfile <mainfile>` and,\n",
    "if required, an imports file with `--wdl-importsfile <importsfile>`.\n",
    "For this example we will use the example job parameters provided with the `cloudos-cli` repo:"
   ]
  },
  {
   "cell_type": "code",
   "execution_count": null,
   "metadata": {},
   "outputs": [],
   "source": [
    "cat cloudos-cli/cloudos/examples/wdl.config"
   ]
  },
  {
   "cell_type": "code",
   "execution_count": null,
   "metadata": {},
   "outputs": [],
   "source": [
    "cloudos job run \\\n",
    "    --cloudos-url $CLOUDOS \\\n",
    "    --apikey $APIKEY \\\n",
    "    --workspace-id $WORKSPACE_ID \\\n",
    "    --project-name $PROJECT \\\n",
    "    --job-name \"WDL-test\" \\\n",
    "    --workflow-name \"member-created-wdl\" \\\n",
    "    --wdl-mainfile \"hello.wdl\" \\\n",
    "    --wdl-importsfile \"imports.zip\" \\\n",
    "    --job-config \"cloudos-cli/cloudos/examples/wdl.config\" \\\n"
   ]
  },
  {
   "cell_type": "markdown",
   "metadata": {},
   "source": [
    "Again, we can also check the job status using `cloudos-cli`:"
   ]
  },
  {
   "cell_type": "code",
   "execution_count": null,
   "metadata": {},
   "outputs": [],
   "source": [
    "cloudos job status \\\n",
    "        --apikey $APIKEY \\\n",
    "        --cloudos-url $CLOUDOS \\\n",
    "        --job-id 645a52e0b60a3fd7b2884f67"
   ]
  },
  {
   "cell_type": "markdown",
   "metadata": {},
   "source": [
    "When your job is completed, you could stop the Cromwell server using the following command:"
   ]
  },
  {
   "cell_type": "code",
   "execution_count": null,
   "metadata": {},
   "outputs": [],
   "source": [
    "cloudos cromwell stop \\\n",
    "    --cloudos-url $CLOUDOS \\\n",
    "    --apikey $APIKEY \\\n",
    "    --workspace-id $WORKSPACE_ID"
   ]
  }
 ],
 "metadata": {
  "kernelspec": {
   "display_name": "Bash",
   "language": "bash",
   "name": "bash"
  },
  "language_info": {
   "codemirror_mode": "shell",
   "file_extension": ".sh",
   "mimetype": "text/x-sh",
   "name": "bash"
  }
 },
 "nbformat": 4,
 "nbformat_minor": 4
}
