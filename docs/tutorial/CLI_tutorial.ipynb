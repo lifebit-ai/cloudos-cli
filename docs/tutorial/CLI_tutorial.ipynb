{
 "cells": [
  {
   "cell_type": "markdown",
   "id": "604526ab-bf8a-4d86-8b47-3050b65195b5",
   "metadata": {},
   "source": [
    "# Cloudos CLI hands on demo"
   ]
  },
  {
   "cell_type": "markdown",
   "id": "a20ac1b5-b2e8-4300-bcbc-5b822e1c0edc",
   "metadata": {},
   "source": [
    "**Repository link**: https://github.com/lifebit-ai/cloudos-cli (public repository)\n",
    "\n",
    "**Repository documentation**: https://github.com/lifebit-ai/cloudos-cli/blob/main/README.md\n",
    "\n",
    "### Overview:\n",
    "1. Installation and configuration\n",
    "2. Importing a workflow\n",
    "3. Running a workflow\n",
    "4. File explorer operations\n",
    "5. Submitting an array job"
   ]
  },
  {
   "cell_type": "markdown",
   "id": "d86bbc89-fa01-4de2-8e1e-6cc0caafccd4",
   "metadata": {},
   "source": [
    "## 1. Installation and configuration\n",
    "\n",
    "You will find that CLI is already installed and configured in the interactive sessions, requiring you only to provide your API token. Confirm this by running:"
   ]
  },
  {
   "cell_type": "code",
   "execution_count": null,
   "id": "46e625a7-c89c-48b6-8ad0-d9597e160008",
   "metadata": {},
   "outputs": [],
   "source": [
    "cloudos --version"
   ]
  },
  {
   "cell_type": "markdown",
   "id": "d8745b25-4030-4295-8fd1-ac684932fabd",
   "metadata": {},
   "source": [
    "We can, however, update it to the latest version with [pip](https://pypi.org/project/cloudos-cli/) - several other installation methods (docker, via github) are possible."
   ]
  },
  {
   "cell_type": "code",
   "execution_count": null,
   "id": "204904b0-546b-42ea-b455-37023243d65b",
   "metadata": {},
   "outputs": [],
   "source": [
    "pip install cloudos-cli --upgrade cloudos-cli==2.45.0 -q\n",
    "cloudos --version"
   ]
  },
  {
   "cell_type": "markdown",
   "id": "221f580c-233c-4617-862b-88e18a5490dc",
   "metadata": {},
   "source": [
    "Now let's finish configuring the CLI. "
   ]
  },
  {
   "cell_type": "code",
   "execution_count": null,
   "id": "faaddefd-2dbe-4ac1-a52e-c0c1bd2675ac",
   "metadata": {},
   "outputs": [],
   "source": [
    "cloudos configure list-profiles"
   ]
  },
  {
   "cell_type": "markdown",
   "id": "e57289de-eb21-4b05-ad8c-ec663e4310e7",
   "metadata": {},
   "source": [
    "You will see that a default profile already exists, and now we only need to add the API token. Let's run `cloudos configure` in the terminal."
   ]
  },
  {
   "cell_type": "markdown",
   "id": "747e61f0-e0e1-4476-8069-1bcc05cb21d7",
   "metadata": {},
   "source": [
    "For full list of options on `cloudos configure`, see the output of `cloudos configure --help`"
   ]
  },
  {
   "cell_type": "code",
   "execution_count": null,
   "id": "859846dc-86e6-4dd0-8517-291bf439889a",
   "metadata": {},
   "outputs": [],
   "source": [
    "cloudos configure --help"
   ]
  },
  {
   "cell_type": "markdown",
   "id": "40b2dbad-2fe6-4d65-b785-c792e817fa94",
   "metadata": {},
   "source": [
    "Now, let's import a workflow. Prerequisite: if it is a private workflow, the account should be linked in personal settings."
   ]
  },
  {
   "cell_type": "code",
   "execution_count": null,
   "id": "c49ca3ec-ab03-4c77-b3c5-c741cde80827",
   "metadata": {},
   "outputs": [],
   "source": [
    "cloudos workflow import --help"
   ]
  },
  {
   "cell_type": "code",
   "execution_count": null,
   "id": "7cacfe4c-607e-4919-b654-6ed24e54bd10",
   "metadata": {},
   "outputs": [],
   "source": [
    "cloudos workflow import -w https://github.com/lifebit-ai/rnatoy --workflow-name rnatoy_demo"
   ]
  },
  {
   "cell_type": "code",
   "execution_count": null,
   "id": "795e3e09-9363-4cb5-80a1-9e6a97e47cae",
   "metadata": {},
   "outputs": [],
   "source": [
    "cloudos job run --workflow-name rnatoy_demo --job-config ../../cloudos_cli/examples/rnatoy.config --job-name model_1"
   ]
  },
  {
   "cell_type": "code",
   "execution_count": 55,
   "id": "7e21520b-11ec-40d4-913d-c9a200f8d654",
   "metadata": {},
   "outputs": [],
   "source": [
    "JOB_ID=68895c6acc3b703b5d89bcfd"
   ]
  },
  {
   "cell_type": "code",
   "execution_count": 92,
   "id": "00e0ef07-5718-4ff7-bfc2-49400008d043",
   "metadata": {},
   "outputs": [
    {
     "name": "stdout",
     "output_type": "stream",
     "text": [
      "CloudOS python package: a package for interacting with CloudOS.\n",
      "\n",
      "Version: 2.45.0\n",
      "\n",
      "CloudOS job queue functionality.\n",
      "\n",
      "Executing list...\n",
      "\tJob queue list collected with a total of 2 queues.\n",
      "\tJob queue list saved to job_queue_list.csv\n"
     ]
    }
   ],
   "source": [
    "cloudos queue list\n",
    "cloudos project list"
   ]
  },
  {
   "cell_type": "code",
   "execution_count": null,
   "id": "2280182b-c06e-40cd-b92b-2dd7e6393ea5",
   "metadata": {},
   "outputs": [],
   "source": [
    "cloudos job details --job-id $JOB_ID"
   ]
  },
  {
   "cell_type": "code",
   "execution_count": null,
   "id": "63159b6e-d297-4dd9-b7cf-a9b4414f51fb",
   "metadata": {},
   "outputs": [],
   "source": [
    "cloudos job details --job-id $JOB_ID --output-format json --output-basename $JOB_ID"
   ]
  },
  {
   "cell_type": "code",
   "execution_count": null,
   "id": "5e25eb21-2a6f-44c8-88e0-378aec91c632",
   "metadata": {},
   "outputs": [],
   "source": [
    "cloudos job details --job-id $JOB_ID --parameters --output-basename $JOB_ID"
   ]
  },
  {
   "cell_type": "code",
   "execution_count": null,
   "id": "b8990eeb-2901-47e2-8701-30496c09d7b8",
   "metadata": {},
   "outputs": [],
   "source": [
    "cloudos job logs --job-id $JOB_ID"
   ]
  },
  {
   "cell_type": "code",
   "execution_count": null,
   "id": "e229a491-9dd6-4d1c-a150-1fa2eb84345a",
   "metadata": {},
   "outputs": [],
   "source": [
    "cloudos job results --job-id $JOB_ID"
   ]
  },
  {
   "cell_type": "code",
   "execution_count": 61,
   "id": "bf151b2c-4818-4034-99a6-c5d4913a47f4",
   "metadata": {},
   "outputs": [
    {
     "name": "stdout",
     "output_type": "stream",
     "text": [
      "Succesfully linked S3 folder: s3://lifebit-user-data-cab78251-a63f-45d9-9fe0-fa93aa986ef7/deploit/teams/65bbadd9e123286ac01d453e/users/639c91cc878ac10155b331f7/projects/66639b9e72275b42a6530e4c/jobs/68895c6acc3b703b5d89bcfd/results/results/\n"
     ]
    }
   ],
   "source": [
    "cloudos datasets link <insert the s3 link here>"
   ]
  },
  {
   "cell_type": "code",
   "execution_count": 64,
   "id": "67c2d9ad-66e0-4bba-aaad-c2088d010c02",
   "metadata": {},
   "outputs": [],
   "source": [
    "grep 'gene_id \"ENSGALG00000011847\"' filesystems/results/transcript_ggal_gut.gtf > filtered_ggal_gut.gtf"
   ]
  },
  {
   "cell_type": "markdown",
   "id": "73d91cee",
   "metadata": {},
   "source": [
    "Now, let's save this interactive session."
   ]
  },
  {
   "cell_type": "code",
   "execution_count": null,
   "id": "3ea567db-0712-49d6-a1bd-31824980c49f",
   "metadata": {},
   "outputs": [],
   "source": [
    "cloudos datasets ls"
   ]
  },
  {
   "cell_type": "code",
   "execution_count": null,
   "id": "24f833e2-8f22-4641-9f42-21412f8cfa7b",
   "metadata": {},
   "outputs": [],
   "source": [
    "cloudos datasets ls Analyses\\ Results"
   ]
  },
  {
   "cell_type": "code",
   "execution_count": 75,
   "id": "044fc2a2-69fd-4cdd-a9a7-144f8c41d767",
   "metadata": {},
   "outputs": [
    {
     "name": "stdout",
     "output_type": "stream",
     "text": [
      "Loading configuration profile...\n",
      "Copying file 'filtered_ggal_gut.gtf' to 'Data'...\n",
      "\u001b[32m\u001b[1m[SUCCESS] Item copied successfully.\u001b[0m\n"
     ]
    }
   ],
   "source": [
    "cloudos datasets cp <insert full path to filtered_ggal_gut.gtf> Data"
   ]
  },
  {
   "cell_type": "code",
   "execution_count": 76,
   "id": "d3f58b1a-93a8-45cd-857d-7cecc2ddb87b",
   "metadata": {},
   "outputs": [
    {
     "name": "stdout",
     "output_type": "stream",
     "text": [
      "filtered_ggal_gut.gtf\n"
     ]
    }
   ],
   "source": [
    "cloudos datasets ls Data"
   ]
  },
  {
   "cell_type": "code",
   "execution_count": 80,
   "id": "affa1d9a-913f-41eb-83b8-ea848ea166db",
   "metadata": {},
   "outputs": [
    {
     "name": "stdout",
     "output_type": "stream",
     "text": [
      "Loading configuration profile...\n",
      "Renaming File 'filtered_ggal_gut.gtf' to 'ENSGALG00000011847_gut.gtf'...\n",
      "\u001b[32m\u001b[1m[SUCCESS] File 'filtered_ggal_gut.gtf' renamed to 'ENSGALG00000011847_gut.gtf' in folder 'Data'.\u001b[0m\n"
     ]
    }
   ],
   "source": [
    "cloudos datasets rename Data/filtered_ggal_gut.gtf ENSGALG00000011847_gut.gtf"
   ]
  },
  {
   "cell_type": "code",
   "execution_count": null,
   "id": "b7ef6f40-8563-4a01-8c54-d7952b06f899",
   "metadata": {},
   "outputs": [],
   "source": [
    "cloudos datasets ls Data --details"
   ]
  },
  {
   "cell_type": "code",
   "execution_count": null,
   "id": "99f44017-7d47-4877-a818-fc9b044f7eeb",
   "metadata": {},
   "outputs": [],
   "source": [
    "cloudos datasets mkdir Data/filtered_results"
   ]
  },
  {
   "cell_type": "code",
   "execution_count": null,
   "id": "18b24e29-0598-40bf-8d13-ed5cbe338c28",
   "metadata": {},
   "outputs": [],
   "source": [
    "cloudos datasets mv --help"
   ]
  },
  {
   "cell_type": "code",
   "execution_count": null,
   "id": "ad653027-0e85-4e65-bf7c-a5f71d5c67f9",
   "metadata": {},
   "outputs": [],
   "source": [
    "cloudos datasets mv Data/ENSGALG00000011847_gut.gtf Data/filtered_results"
   ]
  },
  {
   "cell_type": "code",
   "execution_count": 87,
   "id": "ab4b1960-a163-411a-9c4d-0ca52e6892da",
   "metadata": {},
   "outputs": [
    {
     "name": "stdout",
     "output_type": "stream",
     "text": [
      "Loading configuration profile\n",
      "Checking source path\n",
      "Checking destination path\n",
      "Moving File 'ENSGALG00000011847_gut.gtf' to 'Data' in project 'demo_project ...\n",
      "\u001b[32m\u001b[1m[SUCCESS] File 'ENSGALG00000011847_gut.gtf' moved to 'Data' in project 'demo_project'.\u001b[0m\n"
     ]
    }
   ],
   "source": [
    "cloudos datasets mv Data/filtered_results/ENSGALG00000011847_gut.gtf Data --destination-project-name demo_project"
   ]
  },
  {
   "cell_type": "code",
   "execution_count": null,
   "id": "0f5680cb-6b6e-4be9-bdc9-e7a3082e87ce",
   "metadata": {},
   "outputs": [],
   "source": [
    "cloudos datasets ls Data --project-name demo_project"
   ]
  },
  {
   "cell_type": "code",
   "execution_count": null,
   "id": "2d3b67bf-87e1-46a1-b816-7a5f0b3f2e51",
   "metadata": {},
   "outputs": [],
   "source": [
    "cloudos datasets rm Data/ENSGALG00000011847_gut.gtf --project-name demo_project"
   ]
  },
  {
   "cell_type": "markdown",
   "id": "7cda4507",
   "metadata": {},
   "source": [
    "### How to submit a bash array job with the CLI"
   ]
  },
  {
   "cell_type": "code",
   "execution_count": null,
   "id": "045815d2-0891-4e78-827a-971a7bf65278",
   "metadata": {},
   "outputs": [],
   "source": [
    "cloudos bash array-job --array-file Data/array_file_vcfs.csv --separator , --custom-script-path Data/bcftools_view.sh --workflow-name bcftools --array-parameter \"=vcf\" --parameter \"--extra=value\""
   ]
  }
 ],
 "metadata": {
  "kernelspec": {
   "display_name": "Bash (libraries-cloudos)",
   "language": "bash",
   "name": "conda-env-libraries-cloudos-bash"
  },
  "language_info": {
   "codemirror_mode": "shell",
   "file_extension": ".sh",
   "mimetype": "text/x-sh",
   "name": "bash"
  }
 },
 "nbformat": 4,
 "nbformat_minor": 5
}
