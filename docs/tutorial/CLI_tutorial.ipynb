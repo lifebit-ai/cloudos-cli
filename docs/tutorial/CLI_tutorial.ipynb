{
 "cells": [
  {
   "cell_type": "markdown",
   "id": "604526ab-bf8a-4d86-8b47-3050b65195b5",
   "metadata": {},
   "source": [
    "# Cloudos CLI hands on demo"
   ]
  },
  {
   "cell_type": "markdown",
   "id": "a20ac1b5-b2e8-4300-bcbc-5b822e1c0edc",
   "metadata": {},
   "source": [
    "**Repository link**: https://github.com/lifebit-ai/cloudos-cli (public repository)\n",
    "\n",
    "**Repository documentation**: https://github.com/lifebit-ai/cloudos-cli/blob/main/README.md\n",
    "\n",
    "### Overview:\n",
    "1. Installation and configuration\n",
    "2. Importing a workflow\n",
    "3. Running a workflow\n",
    "4. File explorer operations\n",
    "5. Submitting an array job"
   ]
  },
  {
   "cell_type": "markdown",
   "id": "d86bbc89-fa01-4de2-8e1e-6cc0caafccd4",
   "metadata": {},
   "source": [
    "## 1. Installation and configuration\n",
    "\n",
    "You will find that CLI is already installed and configured in the interactive sessions, requiring you only to provide your API token. Confirm this by running:"
   ]
  },
  {
   "cell_type": "code",
   "execution_count": 11,
   "id": "46e625a7-c89c-48b6-8ad0-d9597e160008",
   "metadata": {},
   "outputs": [
    {
     "name": "stdout",
     "output_type": "stream",
     "text": [
      "cloudos, version 2.47.0\n"
     ]
    }
   ],
   "source": [
    "cloudos --version"
   ]
  },
  {
   "cell_type": "markdown",
   "id": "d8745b25-4030-4295-8fd1-ac684932fabd",
   "metadata": {},
   "source": [
    "We can, however, update it to the latest version with [pip](https://pypi.org/project/cloudos-cli/) - several other installation methods (docker, via github) are possible."
   ]
  },
  {
   "cell_type": "code",
   "execution_count": 32,
   "id": "204904b0-546b-42ea-b455-37023243d65b",
   "metadata": {},
   "outputs": [
    {
     "name": "stdout",
     "output_type": "stream",
     "text": [
      "cloudos, version 2.45.0\n"
     ]
    }
   ],
   "source": [
    "pip install cloudos-cli --upgrade cloudos-cli==2.45.0 -q\n",
    "cloudos --version"
   ]
  },
  {
   "cell_type": "markdown",
   "id": "221f580c-233c-4617-862b-88e18a5490dc",
   "metadata": {},
   "source": [
    "Now let's finish configuring the CLI. "
   ]
  },
  {
   "cell_type": "code",
   "execution_count": 33,
   "id": "faaddefd-2dbe-4ac1-a52e-c0c1bd2675ac",
   "metadata": {},
   "outputs": [
    {
     "name": "stdout",
     "output_type": "stream",
     "text": [
      "CloudOS python package: a package for interacting with CloudOS.\n",
      "\n",
      "Version: 2.45.0\n",
      "\n",
      "CloudOS configuration.\n",
      "\n",
      "Available profiles:\n",
      " - default (default)\n"
     ]
    }
   ],
   "source": [
    "cloudos configure list-profiles"
   ]
  },
  {
   "cell_type": "markdown",
   "id": "e57289de-eb21-4b05-ad8c-ec663e4310e7",
   "metadata": {},
   "source": [
    "You will see that a default profile already exists, and now we only need to add the API token. Let's run `cloudos configure` in the terminal."
   ]
  },
  {
   "cell_type": "markdown",
   "id": "747e61f0-e0e1-4476-8069-1bcc05cb21d7",
   "metadata": {},
   "source": [
    "For full list of options on `cloudos configure`, see the output of `cloudos configure --help`"
   ]
  },
  {
   "cell_type": "code",
   "execution_count": 19,
   "id": "859846dc-86e6-4dd0-8517-291bf439889a",
   "metadata": {},
   "outputs": [
    {
     "name": "stdout",
     "output_type": "stream",
     "text": [
      "CloudOS python package: a package for interacting with CloudOS.\n",
      "\n",
      "Version: 2.47.0\n",
      "\n",
      "                                                                                \n",
      " Usage: cloudos configure [OPTIONS] COMMAND [ARGS]...                           \n",
      "                                                                                \n",
      " CloudOS configuration.                                                         \n",
      "                                                                                \n",
      "╭─ Options ────────────────────────────────────────────────────────────────────╮\n",
      "│ --profile         TEXT  Profile to use from the config file                  │\n",
      "│ --make-default          Make the profile the default one.                    │\n",
      "│ --help                  Show this message and exit.                          │\n",
      "╰──────────────────────────────────────────────────────────────────────────────╯\n",
      "╭─ Commands ───────────────────────────────────────────────────────────────────╮\n",
      "│ list-profiles                                                                │\n",
      "│ remove-profile                                                               │\n",
      "╰──────────────────────────────────────────────────────────────────────────────╯\n",
      "\n"
     ]
    }
   ],
   "source": [
    "cloudos configure --help"
   ]
  },
  {
   "cell_type": "markdown",
   "id": "40b2dbad-2fe6-4d65-b785-c792e817fa94",
   "metadata": {},
   "source": [
    "Now, let's import a workflow. Prerequisite: if it is a private workflow, the account should be linked in personal settings."
   ]
  },
  {
   "cell_type": "code",
   "execution_count": 27,
   "id": "c49ca3ec-ab03-4c77-b3c5-c741cde80827",
   "metadata": {},
   "outputs": [
    {
     "name": "stdout",
     "output_type": "stream",
     "text": [
      "CloudOS python package: a package for interacting with CloudOS.\n",
      "\n",
      "Version: 2.47.0\n",
      "\n",
      "CloudOS workflow functionality: list and import workflows.\n",
      "\n",
      "                                                                                \n",
      " Usage: cloudos workflow import [OPTIONS]                                       \n",
      "                                                                                \n",
      " Import workflows from supported repository providers.                          \n",
      "                                                                                \n",
      "╭─ Options ────────────────────────────────────────────────────────────────────╮\n",
      "│ *  --apikey               -k  TEXT                    Your CloudOS API key   │\n",
      "│                                                       [required]             │\n",
      "│ *  --cloudos-url          -c  TEXT                    The CloudOS url you    │\n",
      "│                                                       are trying to access   │\n",
      "│                                                       to.                    │\n",
      "│                                                       Default=https://cloud… │\n",
      "│                                                       [required]             │\n",
      "│ *  --workspace-id             TEXT                    The specific CloudOS   │\n",
      "│                                                       workspace id.          │\n",
      "│                                                       [required]             │\n",
      "│    --repository-platform      [github|gitlab|bitbuck  Name of the repository │\n",
      "│                               etServer]               platform of the        │\n",
      "│                                                       workflow.              │\n",
      "│                                                       Default=github.        │\n",
      "│ *  --workflow-name            TEXT                    The name that the      │\n",
      "│                                                       workflow will have in  │\n",
      "│                                                       CloudOS.               │\n",
      "│                                                       [required]             │\n",
      "│ *  --workflow-url         -w  TEXT                    URL of the workflow    │\n",
      "│                                                       repository.            │\n",
      "│                                                       [required]             │\n",
      "│    --workflow-docs-link   -d  TEXT                    URL to the             │\n",
      "│                                                       documentation of the   │\n",
      "│                                                       workflow.              │\n",
      "│    --cost-limit               INTEGER                 Cost limit for the     │\n",
      "│                                                       workflow. Default: $30 │\n",
      "│                                                       USD.                   │\n",
      "│    --workflow-descripti…      TEXT                    Workflow description   │\n",
      "│    --disable-ssl-verifi…                              Disable SSL            │\n",
      "│                                                       certificate            │\n",
      "│                                                       verification. Please,  │\n",
      "│                                                       remember that this     │\n",
      "│                                                       option is not          │\n",
      "│                                                       generally recommended  │\n",
      "│                                                       for security reasons.  │\n",
      "│    --ssl-cert                 TEXT                    Path to your SSL       │\n",
      "│                                                       certificate file.      │\n",
      "│    --profile                  TEXT                    Profile to use from    │\n",
      "│                                                       the config file        │\n",
      "│    --help                                             Show this message and  │\n",
      "│                                                       exit.                  │\n",
      "╰──────────────────────────────────────────────────────────────────────────────╯\n",
      "\n"
     ]
    }
   ],
   "source": [
    "cloudos workflow import --help"
   ]
  },
  {
   "cell_type": "code",
   "execution_count": 37,
   "id": "7cacfe4c-607e-4919-b654-6ed24e54bd10",
   "metadata": {},
   "outputs": [
    {
     "name": "stdout",
     "output_type": "stream",
     "text": [
      "CloudOS python package: a package for interacting with CloudOS.\n",
      "\n",
      "Version: 2.45.0\n",
      "\n",
      "CloudOS workflow functionality: list and import workflows.\n",
      "\n",
      "\tWorkflow rnatoy_demo was imported successfully with the following ID: 68895b83cc3b703b5d89bba9\n"
     ]
    }
   ],
   "source": [
    "cloudos workflow import -w https://github.com/lifebit-ai/rnatoy --workflow-name rnatoy_demo"
   ]
  },
  {
   "cell_type": "code",
   "execution_count": 59,
   "id": "795e3e09-9363-4cb5-80a1-9e6a97e47cae",
   "metadata": {},
   "outputs": [
    {
     "name": "stdout",
     "output_type": "stream",
     "text": [
      "CloudOS python package: a package for interacting with CloudOS.\n",
      "\n",
      "Version: 2.45.0\n",
      "\n",
      "CloudOS job functionality: run, check and abort jobs in CloudOS.\n",
      "\n",
      "[Message] No job queue was specified, using the CloudOS default queue: New_default_batch_queue.\n",
      "\n",
      "Executing run...\n",
      "\tNextflow version: 22.10.8\n",
      "\tJob successfully launched to CloudOS, please check the following link: https://cloudos.lifebit.ai/app/advanced-analytics/analyses/68895eaecc3b703b5d89c08d\n",
      "\tYour assigned job id is: 68895eaecc3b703b5d89c08d\n",
      "\n",
      "\tYour current job status is: scheduled\n",
      "\tTo further check your job status you can either go to https://cloudos.lifebit.ai/app/advanced-analytics/analyses/68895eaecc3b703b5d89c08d or use the following command:\n",
      "\tcloudos job status \\\n",
      "\t\t--apikey $MY_API_KEY \\\n",
      "\t\t--cloudos-url https://cloudos.lifebit.ai \\\n",
      "\t\t--job-id 68895eaecc3b703b5d89c08d\n",
      "\n"
     ]
    }
   ],
   "source": [
    "cloudos job run --workflow-name rnatoy_demo --job-config cloudos-cli/cloudos_cli/examples/rnatoy.config --job-name model_1"
   ]
  },
  {
   "cell_type": "code",
   "execution_count": 55,
   "id": "7e21520b-11ec-40d4-913d-c9a200f8d654",
   "metadata": {},
   "outputs": [],
   "source": [
    "JOB_ID=68895c6acc3b703b5d89bcfd"
   ]
  },
  {
   "cell_type": "code",
   "execution_count": 92,
   "id": "00e0ef07-5718-4ff7-bfc2-49400008d043",
   "metadata": {},
   "outputs": [
    {
     "name": "stdout",
     "output_type": "stream",
     "text": [
      "CloudOS python package: a package for interacting with CloudOS.\n",
      "\n",
      "Version: 2.45.0\n",
      "\n",
      "CloudOS job queue functionality.\n",
      "\n",
      "Executing list...\n",
      "\tJob queue list collected with a total of 2 queues.\n",
      "\tJob queue list saved to job_queue_list.csv\n"
     ]
    }
   ],
   "source": [
    "cloudos queue list"
   ]
  },
  {
   "cell_type": "code",
   "execution_count": 93,
   "id": "f334f0a7-ac07-4c53-aa99-5ee4a9c9d6d4",
   "metadata": {},
   "outputs": [
    {
     "name": "stdout",
     "output_type": "stream",
     "text": [
      "CloudOS python package: a package for interacting with CloudOS.\n",
      "\n",
      "Version: 2.45.0\n",
      "\n",
      "CloudOS project functionality: list projects in CloudOS.\n",
      "\n",
      "Executing list...\n",
      "\tProject list collected with a total of 111 projects.\n",
      "\tProject list saved to project_list.csv\n"
     ]
    }
   ],
   "source": [
    "cloudos project list"
   ]
  },
  {
   "cell_type": "code",
   "execution_count": 56,
   "id": "2280182b-c06e-40cd-b92b-2dd7e6393ea5",
   "metadata": {},
   "outputs": [
    {
     "name": "stdout",
     "output_type": "stream",
     "text": [
      "CloudOS python package: a package for interacting with CloudOS.\n",
      "\n",
      "Version: 2.45.0\n",
      "\n",
      "CloudOS job functionality: run, check and abort jobs in CloudOS.\n",
      "\n",
      "Executing details...\n",
      "                                  Job Details                                   \n",
      "┏━━━━━━━━━━━━━━━━━━━━━━━━━━┳━━━━━━━━━━━━━━━━━━━━━━━━━━━━━━━━━━━━━━━━━━━━━━━━━━━┓\n",
      "┃ Field                    ┃ Value                                             ┃\n",
      "┡━━━━━━━━━━━━━━━━━━━━━━━━━━╇━━━━━━━━━━━━━━━━━━━━━━━━━━━━━━━━━━━━━━━━━━━━━━━━━━━┩\n",
      "│ Job Status               │ completed                                         │\n",
      "│ Parameters               │ --reads=s3://lifebit-featured-datasets/pipelines/ │\n",
      "│                          │ rnatoy-data                                       │\n",
      "│                          │ --genome=s3://lifebit-featured-datasets/pipelines │\n",
      "│                          │ /rnatoy-data/ggal_1_48850000_49020000.Ggal71.500b │\n",
      "│                          │ pflank.fa                                         │\n",
      "│                          │ --annot=s3://lifebit-featured-datasets/pipelines/ │\n",
      "│                          │ rnatoy-data/ggal_1_48850000_49020000.bed.gff      │\n",
      "│ Revision                 │ 605597f5fbee10f6f0c7bbdd262b682e2357737c          │\n",
      "│ Nextflow Version         │ 22.10.8                                           │\n",
      "│ Execution Platform       │ Batch AWS                                         │\n",
      "│ Profile                  │ None                                              │\n",
      "│ Master Instance          │ c5.xlarge                                         │\n",
      "│ Storage                  │ 500 GB                                            │\n",
      "│ Job Queue ID             │ nextflow-job-queue-65bbadd9e123286ac01d453e-5ba5  │\n",
      "│ Job Queue Name           │ New_default_batch_queue                           │\n",
      "│ Accelerated File Staging │ False                                             │\n",
      "│ Task Resources           │ 1 CPUs, 4 GB RAM                                  │\n",
      "└──────────────────────────┴───────────────────────────────────────────────────┘\n"
     ]
    }
   ],
   "source": [
    "cloudos job details --job-id $JOB_ID"
   ]
  },
  {
   "cell_type": "code",
   "execution_count": 57,
   "id": "63159b6e-d297-4dd9-b7cf-a9b4414f51fb",
   "metadata": {},
   "outputs": [
    {
     "name": "stdout",
     "output_type": "stream",
     "text": [
      "CloudOS python package: a package for interacting with CloudOS.\n",
      "\n",
      "Version: 2.45.0\n",
      "\n",
      "CloudOS job functionality: run, check and abort jobs in CloudOS.\n",
      "\n",
      "Executing details...\n",
      "\tJob details have been saved to 'job_details.json'\n"
     ]
    }
   ],
   "source": [
    "cloudos job details --job-id $JOB_ID --output-format json --output-basename model_1"
   ]
  },
  {
   "cell_type": "code",
   "execution_count": 52,
   "id": "5e25eb21-2a6f-44c8-88e0-378aec91c632",
   "metadata": {},
   "outputs": [
    {
     "name": "stdout",
     "output_type": "stream",
     "text": [
      "CloudOS python package: a package for interacting with CloudOS.\n",
      "\n",
      "Version: 2.45.0\n",
      "\n",
      "CloudOS job functionality: run, check and abort jobs in CloudOS.\n",
      "\n",
      "Executing details...\n",
      "\tJob parameters have been saved to 'model_1.config'\n",
      "                                  Job Details                                   \n",
      "┏━━━━━━━━━━━━━━━━━━━━━━━━━━┳━━━━━━━━━━━━━━━━━━━━━━━━━━━━━━━━━━━━━━━━━━━━━━━━━━━┓\n",
      "┃ Field                    ┃ Value                                             ┃\n",
      "┡━━━━━━━━━━━━━━━━━━━━━━━━━━╇━━━━━━━━━━━━━━━━━━━━━━━━━━━━━━━━━━━━━━━━━━━━━━━━━━━┩\n",
      "│ Job Status               │ completed                                         │\n",
      "│ Parameters               │ --reads=s3://lifebit-featured-datasets/pipelines/ │\n",
      "│                          │ rnatoy-data                                       │\n",
      "│                          │ --genome=s3://lifebit-featured-datasets/pipelines │\n",
      "│                          │ /rnatoy-data/ggal_1_48850000_49020000.Ggal71.500b │\n",
      "│                          │ pflank.fa                                         │\n",
      "│                          │ --annot=s3://lifebit-featured-datasets/pipelines/ │\n",
      "│                          │ rnatoy-data/ggal_1_48850000_49020000.bed.gff      │\n",
      "│ Revision                 │ 605597f5fbee10f6f0c7bbdd262b682e2357737c          │\n",
      "│ Nextflow Version         │ 22.10.8                                           │\n",
      "│ Execution Platform       │ Batch AWS                                         │\n",
      "│ Profile                  │ None                                              │\n",
      "│ Master Instance          │ c5.xlarge                                         │\n",
      "│ Storage                  │ 500 GB                                            │\n",
      "│ Job Queue ID             │ nextflow-job-queue-65bbadd9e123286ac01d453e-5ba5  │\n",
      "│ Job Queue Name           │ New_default_batch_queue                           │\n",
      "│ Accelerated File Staging │ False                                             │\n",
      "│ Task Resources           │ 1 CPUs, 4 GB RAM                                  │\n",
      "└──────────────────────────┴───────────────────────────────────────────────────┘\n"
     ]
    }
   ],
   "source": [
    "cloudos job details --job-id $JOB_ID --parameters --output-basename model_1"
   ]
  },
  {
   "cell_type": "code",
   "execution_count": 53,
   "id": "b8990eeb-2901-47e2-8701-30496c09d7b8",
   "metadata": {},
   "outputs": [
    {
     "name": "stdout",
     "output_type": "stream",
     "text": [
      "CloudOS python package: a package for interacting with CloudOS.\n",
      "\n",
      "Version: 2.45.0\n",
      "\n",
      "CloudOS job functionality: run, check and abort jobs in CloudOS.\n",
      "\n",
      "Executing logs...\n",
      "Nextflow log: s3://lifebit-user-data-cab78251-a63f-45d9-9fe0-fa93aa986ef7/deploit/teams/65bbadd9e123286ac01d453e/users/639c91cc878ac10155b331f7/projects/66639b9e72275b42a6530e4c/jobs/68895c6acc3b703b5d89bcfd/logs/.nextflow.log\n",
      "\n",
      "Nextflow standard output: s3://lifebit-user-data-cab78251-a63f-45d9-9fe0-fa93aa986ef7/deploit/teams/65bbadd9e123286ac01d453e/users/639c91cc878ac10155b331f7/projects/66639b9e72275b42a6530e4c/jobs/68895c6acc3b703b5d89bcfd/logs/stdout.txt\n",
      "\n",
      "Trace file: s3://lifebit-user-data-cab78251-a63f-45d9-9fe0-fa93aa986ef7/deploit/teams/65bbadd9e123286ac01d453e/users/639c91cc878ac10155b331f7/projects/66639b9e72275b42a6530e4c/jobs/68895c6acc3b703b5d89bcfd/logs/trace.txt\n",
      "\n"
     ]
    }
   ],
   "source": [
    "cloudos job logs --job-id 68895c6acc3b703b5d89bcfd"
   ]
  },
  {
   "cell_type": "code",
   "execution_count": 54,
   "id": "e229a491-9dd6-4d1c-a150-1fa2eb84345a",
   "metadata": {},
   "outputs": [
    {
     "name": "stdout",
     "output_type": "stream",
     "text": [
      "CloudOS python package: a package for interacting with CloudOS.\n",
      "\n",
      "Version: 2.45.0\n",
      "\n",
      "CloudOS job functionality: run, check and abort jobs in CloudOS.\n",
      "\n",
      "Executing results...\n",
      "results: s3://lifebit-user-data-cab78251-a63f-45d9-9fe0-fa93aa986ef7/deploit/teams/65bbadd9e123286ac01d453e/users/639c91cc878ac10155b331f7/projects/66639b9e72275b42a6530e4c/jobs/68895c6acc3b703b5d89bcfd/results/results/\n",
      "\n"
     ]
    }
   ],
   "source": [
    "cloudos job results --job-id 68895c6acc3b703b5d89bcfd"
   ]
  },
  {
   "cell_type": "code",
   "execution_count": 61,
   "id": "bf151b2c-4818-4034-99a6-c5d4913a47f4",
   "metadata": {},
   "outputs": [
    {
     "name": "stdout",
     "output_type": "stream",
     "text": [
      "Succesfully linked S3 folder: s3://lifebit-user-data-cab78251-a63f-45d9-9fe0-fa93aa986ef7/deploit/teams/65bbadd9e123286ac01d453e/users/639c91cc878ac10155b331f7/projects/66639b9e72275b42a6530e4c/jobs/68895c6acc3b703b5d89bcfd/results/results/\n"
     ]
    }
   ],
   "source": [
    "cloudos datasets link s3://lifebit-user-data-cab78251-a63f-45d9-9fe0-fa93aa986ef7/deploit/teams/65bbadd9e123286ac01d453e/users/639c91cc878ac10155b331f7/projects/66639b9e72275b42a6530e4c/jobs/68895c6acc3b703b5d89bcfd/results/results/"
   ]
  },
  {
   "cell_type": "code",
   "execution_count": 63,
   "id": "d5e524b4-ade9-413c-bcd9-0b587bc5cf60",
   "metadata": {},
   "outputs": [
    {
     "name": "stdout",
     "output_type": "stream",
     "text": [
      "Succesfully linked S3 folder: s3://lifebit-user-data-cab78251-a63f-45d9-9fe0-fa93aa986ef7/deploit/teams/65bbadd9e123286ac01d453e/users/639c91cc878ac10155b331f7/projects/66639b9e72275b42a6530e4c/jobs/68895c6acc3b703b5d89bcfd/logs\n"
     ]
    }
   ],
   "source": [
    "cloudos datasets link s3://lifebit-user-data-cab78251-a63f-45d9-9fe0-fa93aa986ef7/deploit/teams/65bbadd9e123286ac01d453e/users/639c91cc878ac10155b331f7/projects/66639b9e72275b42a6530e4c/jobs/68895c6acc3b703b5d89bcfd/logs"
   ]
  },
  {
   "cell_type": "code",
   "execution_count": 64,
   "id": "67c2d9ad-66e0-4bba-aaad-c2088d010c02",
   "metadata": {},
   "outputs": [],
   "source": [
    "grep 'gene_id \"ENSGALG00000011847\"' filesystems/results/transcript_ggal_gut.gtf > filtered_ggal_gut.gtf"
   ]
  },
  {
   "cell_type": "code",
   "execution_count": 65,
   "id": "3ea567db-0712-49d6-a1bd-31824980c49f",
   "metadata": {},
   "outputs": [
    {
     "name": "stdout",
     "output_type": "stream",
     "text": [
      "Analyses Results\n",
      "Data\n",
      "Cohorts\n"
     ]
    }
   ],
   "source": [
    "cloudos datasets ls"
   ]
  },
  {
   "cell_type": "code",
   "execution_count": 66,
   "id": "24f833e2-8f22-4641-9f42-21412f8cfa7b",
   "metadata": {},
   "outputs": [
    {
     "name": "stdout",
     "output_type": "stream",
     "text": [
      "CLI demo-68894f41a13a1cc98ed44553\n",
      "GWAS retrieval-66642cec13b39cd4db97db16\n",
      "GWAS retrieval-6666120b13b39cd4db990dbe\n",
      "GWAS retrieval-666612c272275b42a654fe1e\n",
      "GWAS retrieval-666617d313b39cd4db991b33\n",
      "GWAS retrieval-6666211b13b39cd4db992863\n",
      "GWAS retrieval-666628cc72275b42a6552170\n",
      "GWAS retrieval-66662fa413b39cd4db994ef0\n",
      "GWAS retrieval-6666323e13b39cd4db9963ab\n",
      "GWAS retrieval-6666384b13b39cd4db99789f\n",
      "GWAS retrieval-6666430b13b39cd4db99f2a3\n",
      "GWAS retrieval-6666d6c0e8d35372d73cc663\n",
      "GWAS-6671d6423efc632a63816d21\n",
      "GWAS-6671dae43efc632a63819ac7\n",
      "GWAS-6671e32b3efc632a6381befb\n",
      "GWAS-6671fec93efc632a6383a034\n",
      "Linkage file for 114k-6671e4813efc632a6381de67\n",
      "PRS-6671fef73efc632a6383a240\n",
      "VEP-6671fe923efc632a63839e87\n",
      "VEP-667201933efc632a6383cd85\n",
      "model_1-68895eaecc3b703b5d89c08d\n",
      "new_job-68895c6acc3b703b5d89bcfd\n",
      "visualisation-66639ba572275b42a6530efe\n"
     ]
    }
   ],
   "source": [
    "cloudos datasets ls Analyses\\ Results"
   ]
  },
  {
   "cell_type": "code",
   "execution_count": 70,
   "id": "c18dc9a0-ff5c-42f5-b246-2ad550d87612",
   "metadata": {},
   "outputs": [
    {
     "name": "stdout",
     "output_type": "stream",
     "text": [
      "Untitled.ipynb\n",
      "filtered_ggal_gut.gtf\n",
      "job_details.json\n",
      "model_1.config\n",
      "project_list.csv\n",
      ".ipynb_checkpoints\n",
      "cloudos-cli\n"
     ]
    }
   ],
   "source": [
    "cloudos datasets ls Analyses\\ Results/CLI\\ demo-68894f41a13a1cc98ed44553"
   ]
  },
  {
   "cell_type": "code",
   "execution_count": 75,
   "id": "044fc2a2-69fd-4cdd-a9a7-144f8c41d767",
   "metadata": {},
   "outputs": [
    {
     "name": "stdout",
     "output_type": "stream",
     "text": [
      "Loading configuration profile...\n",
      "Copying file 'filtered_ggal_gut.gtf' to 'Data'...\n",
      "\u001b[32m\u001b[1m[SUCCESS] Item copied successfully.\u001b[0m\n"
     ]
    }
   ],
   "source": [
    "cloudos datasets cp Analyses\\ Results/CLI\\ demo-68894f41a13a1cc98ed44553/filtered_ggal_gut.gtf Data"
   ]
  },
  {
   "cell_type": "code",
   "execution_count": 76,
   "id": "d3f58b1a-93a8-45cd-857d-7cecc2ddb87b",
   "metadata": {},
   "outputs": [
    {
     "name": "stdout",
     "output_type": "stream",
     "text": [
      "filtered_ggal_gut.gtf\n"
     ]
    }
   ],
   "source": [
    "cloudos datasets ls Data"
   ]
  },
  {
   "cell_type": "code",
   "execution_count": 80,
   "id": "affa1d9a-913f-41eb-83b8-ea848ea166db",
   "metadata": {},
   "outputs": [
    {
     "name": "stdout",
     "output_type": "stream",
     "text": [
      "Loading configuration profile...\n",
      "Renaming File 'filtered_ggal_gut.gtf' to 'ENSGALG00000011847_gut.gtf'...\n",
      "\u001b[32m\u001b[1m[SUCCESS] File 'filtered_ggal_gut.gtf' renamed to 'ENSGALG00000011847_gut.gtf' in folder 'Data'.\u001b[0m\n"
     ]
    }
   ],
   "source": [
    "cloudos datasets rename Data/filtered_ggal_gut.gtf ENSGALG00000011847_gut.gtf"
   ]
  },
  {
   "cell_type": "code",
   "execution_count": 94,
   "id": "a1de79d3-8f31-4467-94be-8b37eb7e276b",
   "metadata": {},
   "outputs": [
    {
     "name": "stdout",
     "output_type": "stream",
     "text": [
      "simulated_100K_bgen_chr21_22_files.csv\n",
      "filtered_results\n"
     ]
    }
   ],
   "source": [
    "cloudos datasets ls Data"
   ]
  },
  {
   "cell_type": "code",
   "execution_count": 83,
   "id": "b7ef6f40-8563-4a01-8c54-d7952b06f899",
   "metadata": {},
   "outputs": [
    {
     "name": "stdout",
     "output_type": "stream",
     "text": [
      "┏━━━━━━━━┳━━━━━━━━━━━━━┳━━━━━━━┳━━━━━━━━━━━━━━━┳━━━━━━━━━━━━━━━┳━━━━━━━━━━━━━━━┓\n",
      "┃ Type   ┃ Owner       ┃ Size  ┃ Last Updated  ┃ File Name     ┃ Storage Path  ┃\n",
      "┡━━━━━━━━╇━━━━━━━━━━━━━╇━━━━━━━╇━━━━━━━━━━━━━━━╇━━━━━━━━━━━━━━━╇━━━━━━━━━━━━━━━┩\n",
      "│ file   │ Mila Zudina │ 0.0 B │ 2025-07-30T0… │ ENSGALG000000 │ s3://lifebit- │\n",
      "│        │             │       │               │ 11847_gut.gtf │ user-data-cab │\n",
      "│        │             │       │               │               │ 78251-a63f-45 │\n",
      "│        │             │       │               │               │ d9-9fe0-fa93a │\n",
      "│        │             │       │               │               │ a986ef7/deplo │\n",
      "│        │             │       │               │               │ it/teams/65bb │\n",
      "│        │             │       │               │               │ add9e123286ac │\n",
      "│        │             │       │               │               │ 01d453e/users │\n",
      "│        │             │       │               │               │ /639c91cc878a │\n",
      "│        │             │       │               │               │ c10155b331f7/ │\n",
      "│        │             │       │               │               │ projects/6663 │\n",
      "│        │             │       │               │               │ 9b9e72275b42a │\n",
      "│        │             │       │               │               │ 6530e4c/inter │\n",
      "│        │             │       │               │               │ active-sessio │\n",
      "│        │             │       │               │               │ ns/CLI-demo-6 │\n",
      "│        │             │       │               │               │ 8894f41a13a1c │\n",
      "│        │             │       │               │               │ c98ed44553/fi │\n",
      "│        │             │       │               │               │ ltered_ggal_g │\n",
      "│        │             │       │               │               │ ut.gtf        │\n",
      "│ folder │ Mila Zudina │ -     │ 2025-07-30T0… │ filtered_resu │ -             │\n",
      "│        │             │       │               │ lts           │               │\n",
      "└────────┴─────────────┴───────┴───────────────┴───────────────┴───────────────┘\n"
     ]
    }
   ],
   "source": [
    "cloudos datasets ls Data --details"
   ]
  },
  {
   "cell_type": "code",
   "execution_count": 78,
   "id": "99f44017-7d47-4877-a818-fc9b044f7eeb",
   "metadata": {},
   "outputs": [
    {
     "name": "stdout",
     "output_type": "stream",
     "text": [
      "Loading configuration profile...\n",
      "Creating folder 'filtered_results' under 'Data' (Dataset)...\n",
      "\u001b[32m\u001b[1m[SUCCESS] Folder 'filtered_results' created under 'Data'\u001b[0m\n"
     ]
    }
   ],
   "source": [
    "cloudos datasets mkdir Data/filtered_results"
   ]
  },
  {
   "cell_type": "code",
   "execution_count": 84,
   "id": "18b24e29-0598-40bf-8d13-ed5cbe338c28",
   "metadata": {},
   "outputs": [
    {
     "name": "stdout",
     "output_type": "stream",
     "text": [
      "                                                                                \n",
      " Usage: cloudos datasets mv [OPTIONS] SOURCE_PATH DESTINATION_PATH              \n",
      "                                                                                \n",
      " Move a file or folder from a source path to a destination path within or       \n",
      " across CloudOS projects.                                                       \n",
      " SOURCE_PATH [path]: the full path to the file or folder to move. It must be a  \n",
      " 'Data' folder path.  E.g.: 'Data/folderA/file.txt'                             \n",
      " DESTINATION_PATH [path]: the full path to the destination folder. It must be a \n",
      " 'Data' folder path.  E.g.: 'Data/folderB'                                      \n",
      "                                                                                \n",
      "╭─ Options ────────────────────────────────────────────────────────────────────╮\n",
      "│ *  --apikey                    -k  TEXT  Your CloudOS API key. [required]    │\n",
      "│ *  --cloudos-url               -c  TEXT  The CloudOS URL. [required]         │\n",
      "│ *  --workspace-id                  TEXT  The CloudOS workspace ID.           │\n",
      "│                                          [required]                          │\n",
      "│ *  --project-name                  TEXT  The source project name. [required] │\n",
      "│    --destination-project-name      TEXT  The destination project name.       │\n",
      "│                                          Defaults to the source project.     │\n",
      "│    --disable-ssl-verification            Disable SSL certificate             │\n",
      "│                                          verification.                       │\n",
      "│    --ssl-cert                      TEXT  Path to your SSL certificate file.  │\n",
      "│    --profile                       TEXT  Profile to use from the config      │\n",
      "│                                          file.                               │\n",
      "│    --help                                Show this message and exit.         │\n",
      "╰──────────────────────────────────────────────────────────────────────────────╯\n",
      "\n"
     ]
    }
   ],
   "source": [
    "cloudos datasets mv --help"
   ]
  },
  {
   "cell_type": "code",
   "execution_count": 85,
   "id": "ad653027-0e85-4e65-bf7c-a5f71d5c67f9",
   "metadata": {},
   "outputs": [
    {
     "name": "stdout",
     "output_type": "stream",
     "text": [
      "Loading configuration profile\n",
      "Checking source path\n",
      "Checking destination path\n",
      "Moving File 'ENSGALG00000011847_gut.gtf' to 'Data/filtered_results' in project 'mila_testing ...\n",
      "\u001b[32m\u001b[1m[SUCCESS] File 'ENSGALG00000011847_gut.gtf' moved to 'Data/filtered_results' in project 'mila_testing'.\u001b[0m\n"
     ]
    }
   ],
   "source": [
    "cloudos datasets mv Data/ENSGALG00000011847_gut.gtf Data/filtered_results"
   ]
  },
  {
   "cell_type": "code",
   "execution_count": 87,
   "id": "ab4b1960-a163-411a-9c4d-0ca52e6892da",
   "metadata": {},
   "outputs": [
    {
     "name": "stdout",
     "output_type": "stream",
     "text": [
      "Loading configuration profile\n",
      "Checking source path\n",
      "Checking destination path\n",
      "Moving File 'ENSGALG00000011847_gut.gtf' to 'Data' in project 'demo_project ...\n",
      "\u001b[32m\u001b[1m[SUCCESS] File 'ENSGALG00000011847_gut.gtf' moved to 'Data' in project 'demo_project'.\u001b[0m\n"
     ]
    }
   ],
   "source": [
    "cloudos datasets mv Data/filtered_results/ENSGALG00000011847_gut.gtf Data --destination-project-name demo_project"
   ]
  },
  {
   "cell_type": "code",
   "execution_count": 101,
   "id": "0f5680cb-6b6e-4be9-bdc9-e7a3082e87ce",
   "metadata": {},
   "outputs": [
    {
     "name": "stdout",
     "output_type": "stream",
     "text": [
      "ALL.chr20.phase3_shapeit2_mvncall_integrated_v5a.20130502.genotypes_snps_only.sa\n",
      "mple\n",
      "Untitled spreadsheet.xlsx\n",
      "patient_5k_map.csv\n",
      "patients_5k.csv\n",
      "gwas-nf\n"
     ]
    }
   ],
   "source": [
    "cloudos datasets ls Data --project-name demo_project"
   ]
  },
  {
   "cell_type": "code",
   "execution_count": 91,
   "id": "2d3b67bf-87e1-46a1-b816-7a5f0b3f2e51",
   "metadata": {},
   "outputs": [
    {
     "name": "stdout",
     "output_type": "stream",
     "text": [
      "Loading configuration profile...\n",
      "Deleting File 'ENSGALG00000011847_gut.gtf' from 'Data'...\n",
      "\u001b[32m\u001b[1m[SUCCESS] File 'ENSGALG00000011847_gut.gtf' was deleted from 'Data'.\u001b[0m\n",
      "\u001b[33mThis item will still be available on your Cloud Provider.\u001b[0m\n"
     ]
    }
   ],
   "source": [
    "cloudos datasets rm Data/ENSGALG00000011847_gut.gtf --project-name demo_project"
   ]
  },
  {
   "cell_type": "code",
   "execution_count": 105,
   "id": "045815d2-0891-4e78-827a-971a7bf65278",
   "metadata": {},
   "outputs": [
    {
     "name": "stdout",
     "output_type": "stream",
     "text": [
      "CloudOS python package: a package for interacting with CloudOS.\n",
      "\n",
      "Version: 2.45.0\n",
      "\n",
      "CloudOS bash functionality.\n",
      "\n",
      "Columns: \n",
      "\t- chr\n",
      "\t- bgen\n",
      "\t- bgen_index\n",
      "\t- sample\n"
     ]
    }
   ],
   "source": [
    "cloudos bash array-job --list-columns --array-file Data/simulated_100K_bgen_chr21_22_files.csv --separator , --workflow-name king"
   ]
  },
  {
   "cell_type": "code",
   "execution_count": 110,
   "id": "38bfbee5-67b4-447c-940f-8303a7a9866e",
   "metadata": {},
   "outputs": [
    {
     "name": "stdout",
     "output_type": "stream",
     "text": [
      "CloudOS python package: a package for interacting with CloudOS.\n",
      "\n",
      "Version: 2.45.0\n",
      "\n",
      "CloudOS bash functionality.\n",
      "\n",
      "\n",
      "Checking columns in the array file vs parameters added...\n",
      "\n",
      "Found column 'bgen' in the array file.\n",
      "\tJob successfully launched to CloudOS, please check the following link: https://cloudos.lifebit.ai/app/advanced-analytics/analyses/6889690bcc3b703b5d89dc0d\n",
      "\tYour assigned job id is: 6889690bcc3b703b5d89dc0d\n",
      "\n",
      "\tYour current job status is: scheduled\n",
      "\tTo further check your job status you can either go to https://cloudos.lifebit.ai/app/advanced-analytics/analyses/6889690bcc3b703b5d89dc0d or use the following command:\n",
      "\tcloudos job status \\\n",
      "\t\t--apikey $MY_API_KEY \\\n",
      "\t\t--cloudos-url https://cloudos.lifebit.ai \\\n",
      "\t\t--job-id 6889690bcc3b703b5d89dc0d\n",
      "\n"
     ]
    }
   ],
   "source": [
    "cloudos bash array-job --array-file Data/simulated_100K_bgen_chr21_22_files.csv --separator , --workflow-name ubuntu --parameter -test=value --array-parameter --array_var=bgen --command \"echo 'array_var\\n' > new_file.txt\""
   ]
  },
  {
   "cell_type": "code",
   "execution_count": null,
   "id": "a95ae06b-ea9a-46e1-975b-1f02f363d710",
   "metadata": {},
   "outputs": [],
   "source": []
  }
 ],
 "metadata": {
  "kernelspec": {
   "display_name": "Bash (libraries-cloudos)",
   "language": "bash",
   "name": "conda-env-libraries-cloudos-bash"
  },
  "language_info": {
   "codemirror_mode": "shell",
   "file_extension": ".sh",
   "mimetype": "text/x-sh",
   "name": "bash"
  }
 },
 "nbformat": 4,
 "nbformat_minor": 5
}
